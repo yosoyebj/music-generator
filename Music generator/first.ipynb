{
 "cells": [
  {
   "cell_type": "code",
   "execution_count": 51,
   "id": "bdfef65a",
   "metadata": {
    "scrolled": true
   },
   "outputs": [],
   "source": [
    "from pydub import AudioSegment\n",
    "from pydub.playback import play\n",
    "import random\n",
    "\n"
   ]
  },
  {
   "cell_type": "code",
   "execution_count": 52,
   "id": "d7241c34",
   "metadata": {},
   "outputs": [],
   "source": [
    "c = AudioSegment.from_file(\"notes/c.mp3\", format= \"mp3\")\n",
    "d = AudioSegment.from_file(\"notes/d.mp3\", format= \"mp3\")\n",
    "e = AudioSegment.from_file(\"notes/e.mp3\", format= \"mp3\")\n",
    "f = AudioSegment.from_file(\"notes/f.mp3\", format= \"mp3\")\n",
    "g = AudioSegment.from_file(\"notes/g.mp3\", format= \"mp3\")\n",
    "a = AudioSegment.from_file(\"notes/a.mp3\", format= \"mp3\")\n",
    "b = AudioSegment.from_file(\"notes/b.mp3\", format= \"mp3\")\n",
    "c1 = AudioSegment.from_file(\"notes/c1.mp3\", format= \"mp3\")\n"
   ]
  },
  {
   "cell_type": "code",
   "execution_count": 53,
   "id": "3e3cf520",
   "metadata": {},
   "outputs": [],
   "source": [
    "c=c.speedup(playback_speed=2.9)\n",
    "d=d.speedup(playback_speed=2.9)\n",
    "e=e.speedup(playback_speed=2.9)\n",
    "f=f.speedup(playback_speed=2.9)\n",
    "g=g.speedup(playback_speed=2.9)\n",
    "a=a.speedup(playback_speed=2.9)\n",
    "b=b.speedup(playback_speed=2.9)\n",
    "c1=c1.speedup(playback_speed=2.9)"
   ]
  },
  {
   "cell_type": "code",
   "execution_count": 54,
   "id": "5050c4ad",
   "metadata": {},
   "outputs": [
    {
     "name": "stdout",
     "output_type": "stream",
     "text": [
      "1.711\n"
     ]
    }
   ],
   "source": [
    "print(c.duration_seconds)"
   ]
  },
  {
   "cell_type": "code",
   "execution_count": null,
   "id": "d9a36b9d",
   "metadata": {},
   "outputs": [
    {
     "name": "stderr",
     "output_type": "stream",
     "text": [
      "Input #0, wav, from '/tmp/tmp05gdo948.wav':   0KB sq=    0B f=0/0   \n",
      "  Duration: 00:00:01.71, bitrate: 1536 kb/s\n",
      "  Stream #0:0: Audio: pcm_s16le ([1][0][0][0] / 0x0001), 48000 Hz, 2 channels, s16, 1536 kb/s\n",
      "   0.40 M-A:  0.000 fd=   0 aq=  188KB vq=    0KB sq=    0B f=0/0   \r"
     ]
    }
   ],
   "source": [
    "play(c)"
   ]
  },
  {
   "cell_type": "code",
   "execution_count": 50,
   "id": "0f55b391",
   "metadata": {},
   "outputs": [
    {
     "name": "stderr",
     "output_type": "stream",
     "text": [
      "Input #0, wav, from '/tmp/tmpp470z2s3.wav':   0KB sq=    0B f=0/0   \n",
      "  Duration: 00:00:01.93, bitrate: 1536 kb/s\n",
      "  Stream #0:0: Audio: pcm_s16le ([1][0][0][0] / 0x0001), 48000 Hz, 2 channels, s16, 1536 kb/s\n",
      "   1.86 M-A: -0.000 fd=   0 aq=    0KB vq=    0KB sq=    0B f=0/0   \r"
     ]
    },
    {
     "name": "stdout",
     "output_type": "stream",
     "text": [
      "\n"
     ]
    },
    {
     "name": "stderr",
     "output_type": "stream",
     "text": [
      "Input #0, wav, from '/tmp/tmpkulxa4ec.wav':   0KB sq=    0B f=0/0   \n",
      "  Duration: 00:00:01.47, bitrate: 1536 kb/s\n",
      "  Stream #0:0: Audio: pcm_s16le ([1][0][0][0] / 0x0001), 48000 Hz, 2 channels, s16, 1536 kb/s\n",
      "   1.40 M-A: -0.000 fd=   0 aq=    0KB vq=    0KB sq=    0B f=0/0   \r"
     ]
    },
    {
     "name": "stdout",
     "output_type": "stream",
     "text": [
      "\n"
     ]
    },
    {
     "name": "stderr",
     "output_type": "stream",
     "text": [
      "Input #0, wav, from '/tmp/tmpg4ybnq5f.wav':   0KB sq=    0B f=0/0   \n",
      "  Duration: 00:00:01.71, bitrate: 1536 kb/s\n",
      "  Stream #0:0: Audio: pcm_s16le ([1][0][0][0] / 0x0001), 48000 Hz, 2 channels, s16, 1536 kb/s\n",
      "   1.67 M-A:  0.000 fd=   0 aq=    0KB vq=    0KB sq=    0B f=0/0   \r"
     ]
    },
    {
     "name": "stdout",
     "output_type": "stream",
     "text": [
      "\n"
     ]
    },
    {
     "name": "stderr",
     "output_type": "stream",
     "text": [
      "Input #0, wav, from '/tmp/tmppz_me25l.wav':   0KB sq=    0B f=0/0   \n",
      "  Duration: 00:00:01.26, bitrate: 1536 kb/s\n",
      "  Stream #0:0: Audio: pcm_s16le ([1][0][0][0] / 0x0001), 48000 Hz, 2 channels, s16, 1536 kb/s\n",
      "   1.19 M-A: -0.000 fd=   0 aq=    0KB vq=    0KB sq=    0B f=0/0   \r"
     ]
    },
    {
     "name": "stdout",
     "output_type": "stream",
     "text": [
      "\n"
     ]
    },
    {
     "name": "stderr",
     "output_type": "stream",
     "text": [
      "Input #0, wav, from '/tmp/tmpyxcz34q7.wav':   0KB sq=    0B f=0/0   \n",
      "  Duration: 00:00:01.47, bitrate: 1536 kb/s\n",
      "  Stream #0:0: Audio: pcm_s16le ([1][0][0][0] / 0x0001), 48000 Hz, 2 channels, s16, 1536 kb/s\n",
      "   1.41 M-A: -0.000 fd=   0 aq=    0KB vq=    0KB sq=    0B f=0/0   \r"
     ]
    },
    {
     "name": "stdout",
     "output_type": "stream",
     "text": [
      "\n"
     ]
    }
   ],
   "source": [
    "my_list = [c,d,e,f,g,a,b,c1]\n",
    "my_list_length = len(my_list)\n",
    "for i in range(5):\n",
    "    \n",
    "    random_index = random.randint(0, my_list_length - 1)\n",
    "    random_element = my_list[random_index]\n",
    "    play(random_element)\n"
   ]
  },
  {
   "cell_type": "code",
   "execution_count": null,
   "id": "ed9920f8",
   "metadata": {},
   "outputs": [],
   "source": []
  },
  {
   "cell_type": "code",
   "execution_count": null,
   "id": "a9af2db6",
   "metadata": {},
   "outputs": [],
   "source": []
  }
 ],
 "metadata": {
  "kernelspec": {
   "display_name": "Python 3 (ipykernel)",
   "language": "python",
   "name": "python3"
  },
  "language_info": {
   "codemirror_mode": {
    "name": "ipython",
    "version": 3
   },
   "file_extension": ".py",
   "mimetype": "text/x-python",
   "name": "python",
   "nbconvert_exporter": "python",
   "pygments_lexer": "ipython3",
   "version": "3.9.13"
  }
 },
 "nbformat": 4,
 "nbformat_minor": 5
}
